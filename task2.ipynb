{
 "cells": [
  {
   "cell_type": "code",
   "execution_count": 1,
   "id": "d0437a7c",
   "metadata": {},
   "outputs": [
    {
     "name": "stdout",
     "output_type": "stream",
     "text": [
      "Data stored at 2023-10-12 15:30:35.884645\n"
     ]
    },
    {
     "name": "stderr",
     "output_type": "stream",
     "text": [
      "Run time of job \"fetch_and_store_data (trigger: interval[0:15:00], next run at: 2023-10-12 16:00:00 IST)\" was missed by 0:06:00.135833\n"
     ]
    },
    {
     "name": "stdout",
     "output_type": "stream",
     "text": [
      "Data stored at 2023-10-12 16:00:00.933430\n",
      "Data stored at 2023-10-12 16:15:01.037054\n",
      "Data stored at 2023-10-12 16:30:00.974827\n",
      "Data stored at 2023-10-12 16:45:00.930643\n",
      "Data stored at 2023-10-12 17:00:00.863190\n"
     ]
    },
    {
     "name": "stderr",
     "output_type": "stream",
     "text": [
      "Run time of job \"fetch_and_store_data (trigger: interval[0:15:00], next run at: 2023-10-12 17:45:00 IST)\" was missed by 0:03:47.256599\n"
     ]
    },
    {
     "name": "stdout",
     "output_type": "stream",
     "text": [
      "Data stored at 2023-10-12 17:45:00.861556\n",
      "Data stored at 2023-10-12 18:00:01.018017\n",
      "Data stored at 2023-10-12 18:15:00.903555\n"
     ]
    }
   ],
   "source": [
    "import yfinance as yf\n",
    "from apscheduler.schedulers.background import BackgroundScheduler\n",
    "from pymongo import MongoClient\n",
    "from datetime import datetime\n",
    "\n",
    "# Function to fetch and store data\n",
    "def fetch_and_store_data():\n",
    "    ticker = \"ICICIBANK.NS\"\n",
    "    icici = yf.Ticker(ticker)\n",
    "    icici_data = icici.history(period=\"15m\")\n",
    "    \n",
    "    # Connect to MongoDB\n",
    "    client = MongoClient(\"mongodb://localhost:27017\")\n",
    "    db = client[\"icici_stock_data\"]  # Change to your database name\n",
    "    collection = db[\"icici_15min_candles\"]  # Change to your collection name\n",
    "\n",
    "    # Add a timestamp to the data\n",
    "    icici_data['timestamp'] = datetime.now()\n",
    "\n",
    "    # Store the data in MongoDB\n",
    "    data_dict = icici_data.to_dict(orient=\"records\")\n",
    "    collection.insert_many(data_dict)\n",
    "\n",
    "    print(\"Data stored at\", datetime.now())\n",
    "\n",
    "# Create a scheduler\n",
    "scheduler = BackgroundScheduler()\n",
    "scheduler.add_job(fetch_and_store_data, 'interval', minutes=15, start_date='2023-10-12 11:15:00', end_date='2023-10-19 14:15:00')\n",
    "scheduler.start()\n",
    "\n",
    "try:\n",
    "    while True:\n",
    "        pass\n",
    "except (KeyboardInterrupt, SystemExit):\n",
    "    scheduler.shutdown()\n"
   ]
  },
  {
   "cell_type": "code",
   "execution_count": null,
   "id": "a43a6fd6",
   "metadata": {},
   "outputs": [],
   "source": [
    "\n"
   ]
  },
  {
   "cell_type": "code",
   "execution_count": null,
   "id": "d5d310ec",
   "metadata": {},
   "outputs": [],
   "source": []
  }
 ],
 "metadata": {
  "kernelspec": {
   "display_name": "Python 3 (ipykernel)",
   "language": "python",
   "name": "python3"
  },
  "language_info": {
   "codemirror_mode": {
    "name": "ipython",
    "version": 3
   },
   "file_extension": ".py",
   "mimetype": "text/x-python",
   "name": "python",
   "nbconvert_exporter": "python",
   "pygments_lexer": "ipython3",
   "version": "3.11.4"
  }
 },
 "nbformat": 4,
 "nbformat_minor": 5
}
