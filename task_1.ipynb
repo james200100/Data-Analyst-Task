{
 "cells": [
  {
   "cell_type": "code",
   "execution_count": 28,
   "id": "eee8d5b8",
   "metadata": {},
   "outputs": [
    {
     "name": "stdout",
     "output_type": "stream",
     "text": [
      "Total Trades: 249\n"
     ]
    }
   ],
   "source": [
    "import pandas as pd\n",
    "\n",
    "# Load the trade log data from the CSV file\n",
    "df = pd.read_csv('tradelog.csv')\n",
    "\n",
    "# Calculate the total number of trades\n",
    "total_trades = len(df)\n",
    "\n",
    "# Print the total number of trades\n",
    "print(\"Total Trades:\", total_trades)\n"
   ]
  },
  {
   "cell_type": "code",
   "execution_count": 29,
   "id": "45358f1d",
   "metadata": {},
   "outputs": [
    {
     "name": "stdout",
     "output_type": "stream",
     "text": [
      "Profitable Trades: 96\n"
     ]
    }
   ],
   "source": [
    "# Calculate the Profit (Exit Price - Entry Price)\n",
    "df['Profit'] = df['Exit Price'] - df['Entry Price']\n",
    "\n",
    "# Calculate the Profitability of each trade\n",
    "df['Profitable'] = df['Profit'] > 0\n",
    "\n",
    "# Calculate the number of profitable trades\n",
    "profitable_trades = df['Profitable'].sum()\n",
    "\n",
    "# Print the number of profitable trades\n",
    "print(\"Profitable Trades:\", profitable_trades)\n"
   ]
  },
  {
   "cell_type": "code",
   "execution_count": 43,
   "id": "daddd4db",
   "metadata": {},
   "outputs": [
    {
     "data": {
      "text/html": [
       "<div>\n",
       "<style scoped>\n",
       "    .dataframe tbody tr th:only-of-type {\n",
       "        vertical-align: middle;\n",
       "    }\n",
       "\n",
       "    .dataframe tbody tr th {\n",
       "        vertical-align: top;\n",
       "    }\n",
       "\n",
       "    .dataframe thead th {\n",
       "        text-align: right;\n",
       "    }\n",
       "</style>\n",
       "<table border=\"1\" class=\"dataframe\">\n",
       "  <thead>\n",
       "    <tr style=\"text-align: right;\">\n",
       "      <th></th>\n",
       "      <th>Unnamed: 0</th>\n",
       "      <th>Ticker</th>\n",
       "      <th>Entry Time</th>\n",
       "      <th>Entry Price</th>\n",
       "      <th>Exit Time</th>\n",
       "      <th>Exit Price</th>\n",
       "      <th>Profit</th>\n",
       "      <th>Profitable</th>\n",
       "      <th>Loss</th>\n",
       "      <th>Loss-Making</th>\n",
       "      <th>Daily_Return</th>\n",
       "    </tr>\n",
       "  </thead>\n",
       "  <tbody>\n",
       "    <tr>\n",
       "      <th>0</th>\n",
       "      <td>1</td>\n",
       "      <td>BANKNIFTY09JUL2022800PE</td>\n",
       "      <td>08-07-2020 09:29</td>\n",
       "      <td>301.00</td>\n",
       "      <td>08-07-2020 13:15</td>\n",
       "      <td>163.50</td>\n",
       "      <td>-137.50</td>\n",
       "      <td>False</td>\n",
       "      <td>137.50</td>\n",
       "      <td>True</td>\n",
       "      <td>-2.115385</td>\n",
       "    </tr>\n",
       "    <tr>\n",
       "      <th>1</th>\n",
       "      <td>2</td>\n",
       "      <td>BANKNIFTY09JUL2022700CE</td>\n",
       "      <td>09-07-2020 09:29</td>\n",
       "      <td>166.75</td>\n",
       "      <td>09-07-2020 10:34</td>\n",
       "      <td>162.50</td>\n",
       "      <td>-4.25</td>\n",
       "      <td>False</td>\n",
       "      <td>4.25</td>\n",
       "      <td>True</td>\n",
       "      <td>-0.065385</td>\n",
       "    </tr>\n",
       "    <tr>\n",
       "      <th>2</th>\n",
       "      <td>3</td>\n",
       "      <td>BANKNIFTY09JUL2022700PE</td>\n",
       "      <td>09-07-2020 09:29</td>\n",
       "      <td>147.00</td>\n",
       "      <td>09-07-2020 10:34</td>\n",
       "      <td>110.55</td>\n",
       "      <td>-36.45</td>\n",
       "      <td>False</td>\n",
       "      <td>36.45</td>\n",
       "      <td>True</td>\n",
       "      <td>-0.560769</td>\n",
       "    </tr>\n",
       "    <tr>\n",
       "      <th>3</th>\n",
       "      <td>4</td>\n",
       "      <td>BANKNIFTY16JUL2022700CE</td>\n",
       "      <td>10-07-2020 09:29</td>\n",
       "      <td>437.55</td>\n",
       "      <td>10-07-2020 15:24</td>\n",
       "      <td>295.10</td>\n",
       "      <td>-142.45</td>\n",
       "      <td>False</td>\n",
       "      <td>142.45</td>\n",
       "      <td>True</td>\n",
       "      <td>-2.191538</td>\n",
       "    </tr>\n",
       "    <tr>\n",
       "      <th>4</th>\n",
       "      <td>5</td>\n",
       "      <td>BANKNIFTY16JUL2022700PE</td>\n",
       "      <td>10-07-2020 09:29</td>\n",
       "      <td>403.15</td>\n",
       "      <td>10-07-2020 15:24</td>\n",
       "      <td>555.20</td>\n",
       "      <td>152.05</td>\n",
       "      <td>True</td>\n",
       "      <td>-152.05</td>\n",
       "      <td>False</td>\n",
       "      <td>2.339231</td>\n",
       "    </tr>\n",
       "  </tbody>\n",
       "</table>\n",
       "</div>"
      ],
      "text/plain": [
       "   Unnamed: 0                   Ticker        Entry Time  Entry Price  \\\n",
       "0           1  BANKNIFTY09JUL2022800PE  08-07-2020 09:29       301.00   \n",
       "1           2  BANKNIFTY09JUL2022700CE  09-07-2020 09:29       166.75   \n",
       "2           3  BANKNIFTY09JUL2022700PE  09-07-2020 09:29       147.00   \n",
       "3           4  BANKNIFTY16JUL2022700CE  10-07-2020 09:29       437.55   \n",
       "4           5  BANKNIFTY16JUL2022700PE  10-07-2020 09:29       403.15   \n",
       "\n",
       "          Exit Time  Exit Price  Profit  Profitable    Loss  Loss-Making  \\\n",
       "0  08-07-2020 13:15      163.50 -137.50       False  137.50         True   \n",
       "1  09-07-2020 10:34      162.50   -4.25       False    4.25         True   \n",
       "2  09-07-2020 10:34      110.55  -36.45       False   36.45         True   \n",
       "3  10-07-2020 15:24      295.10 -142.45       False  142.45         True   \n",
       "4  10-07-2020 15:24      555.20  152.05        True -152.05        False   \n",
       "\n",
       "   Daily_Return  \n",
       "0     -2.115385  \n",
       "1     -0.065385  \n",
       "2     -0.560769  \n",
       "3     -2.191538  \n",
       "4      2.339231  "
      ]
     },
     "execution_count": 43,
     "metadata": {},
     "output_type": "execute_result"
    }
   ],
   "source": [
    "df.head()"
   ]
  },
  {
   "cell_type": "code",
   "execution_count": 31,
   "id": "a1b6b435",
   "metadata": {},
   "outputs": [
    {
     "name": "stdout",
     "output_type": "stream",
     "text": [
      "Loss-Making Trades: 153\n"
     ]
    }
   ],
   "source": [
    "# Calculate the Loss (Entry Price - Exit Price)\n",
    "df['Loss'] = df['Entry Price'] - df['Exit Price']\n",
    "\n",
    "# Calculate the Loss-Making Trades\n",
    "df['Loss-Making'] = df['Loss'] > 0\n",
    "\n",
    "# Calculate the number of loss-making trades\n",
    "loss_making_trades = df['Loss-Making'].sum()\n",
    "\n",
    "# Print the number of loss-making trades\n",
    "print(\"Loss-Making Trades:\", loss_making_trades)\n"
   ]
  },
  {
   "cell_type": "code",
   "execution_count": 32,
   "id": "709ed661",
   "metadata": {},
   "outputs": [
    {
     "name": "stdout",
     "output_type": "stream",
     "text": [
      "Win Rate: 0.3855421686746988\n"
     ]
    }
   ],
   "source": [
    "# Calculate the Win Rate\n",
    "win_rate = profitable_trades / total_trades\n",
    "\n",
    "# Print the Win Rate\n",
    "print(\"Win Rate:\", win_rate)\n"
   ]
  },
  {
   "cell_type": "code",
   "execution_count": 33,
   "id": "9be61b2d",
   "metadata": {},
   "outputs": [
    {
     "name": "stdout",
     "output_type": "stream",
     "text": [
      "Average Profit per Trade: 105.54375\n"
     ]
    }
   ],
   "source": [
    "# Calculate the Average Profit per Trade\n",
    "average_profit_per_trade = df[df['Profit'] > 0]['Profit'].mean()\n",
    "\n",
    "# Print the Average Profit per Trade\n",
    "print(\"Average Profit per Trade:\", average_profit_per_trade)\n"
   ]
  },
  {
   "cell_type": "code",
   "execution_count": 34,
   "id": "19f0e7e5",
   "metadata": {},
   "outputs": [
    {
     "name": "stdout",
     "output_type": "stream",
     "text": [
      "Average Loss per Trade: 76.09542483660131\n"
     ]
    }
   ],
   "source": [
    "# Calculate the Average Loss per Trade\n",
    "average_loss_per_trade = df[df['Loss'] > 0]['Loss'].mean()\n",
    "\n",
    "# Print the Average Loss per Trade\n",
    "print(\"Average Loss per Trade:\", average_loss_per_trade)\n"
   ]
  },
  {
   "cell_type": "code",
   "execution_count": 35,
   "id": "876c1ece",
   "metadata": {},
   "outputs": [
    {
     "name": "stdout",
     "output_type": "stream",
     "text": [
      "Risk Reward Ratio: 1.3869920593338259\n"
     ]
    }
   ],
   "source": [
    "# Calculate the Risk Reward Ratio\n",
    "risk_reward_ratio = abs(average_profit_per_trade) / abs(average_loss_per_trade)\n",
    "\n",
    "# Print the Risk Reward Ratio\n",
    "print(\"Risk Reward Ratio:\", risk_reward_ratio)\n"
   ]
  },
  {
   "cell_type": "code",
   "execution_count": 36,
   "id": "b58d9b97",
   "metadata": {},
   "outputs": [
    {
     "name": "stdout",
     "output_type": "stream",
     "text": [
      "Expectancy: -6.065863453815254\n"
     ]
    }
   ],
   "source": [
    "# Calculate the Loss Rate\n",
    "loss_rate = 1 - win_rate\n",
    "\n",
    "# Calculate Expectancy\n",
    "expectancy = (win_rate * average_profit_per_trade) - (loss_rate * average_loss_per_trade)\n",
    "\n",
    "# Print the Expectancy\n",
    "print(\"Expectancy:\", expectancy)\n"
   ]
  },
  {
   "cell_type": "code",
   "execution_count": 37,
   "id": "4cf98a18",
   "metadata": {},
   "outputs": [
    {
     "name": "stdout",
     "output_type": "stream",
     "text": [
      "Average ROR per Trade: -0.0933209762125425\n",
      "Standard Deviation of Daily Returns (Volatility): 1.739434625452724\n"
     ]
    }
   ],
   "source": [
    "# Calculate daily returns as the profit/loss as a percentage of the initial portfolio value\n",
    "df['Daily_Return'] = (df['Profit'] / 6500) * 100\n",
    "\n",
    "# Calculate the standard deviation of daily returns to measure volatility\n",
    "daily_returns_std = df['Daily_Return'].std()\n",
    "\n",
    "# Calculate Average ROR per Trade\n",
    "average_ror_per_trade = df['Daily_Return'].mean()\n",
    "\n",
    "# Print Average ROR per Trade and Standard Deviation of Daily Returns\n",
    "print(\"Average ROR per Trade:\", average_ror_per_trade)\n",
    "print(\"Standard Deviation of Daily Returns (Volatility):\", daily_returns_std)\n"
   ]
  },
  {
   "cell_type": "code",
   "execution_count": 38,
   "id": "d4eeca47",
   "metadata": {},
   "outputs": [
    {
     "name": "stdout",
     "output_type": "stream",
     "text": [
      "Sharpe Ratio: -0.08239514961664066\n"
     ]
    }
   ],
   "source": [
    "# Calculate the Sharpe Ratio\n",
    "sharpe_ratio = (average_ror_per_trade - 0.05) / daily_returns_std  # 0.05 represents the 5% risk-free rate\n",
    "\n",
    "# Print the Sharpe Ratio\n",
    "print(\"Sharpe Ratio:\", sharpe_ratio)\n"
   ]
  },
  {
   "cell_type": "code",
   "execution_count": 39,
   "id": "faca6234",
   "metadata": {},
   "outputs": [
    {
     "name": "stdout",
     "output_type": "stream",
     "text": [
      "Max Drawdown: -0.24903785991824398\n"
     ]
    }
   ],
   "source": [
    "# Calculate the maximum drawdown using the daily returns\n",
    "cumulative_returns = (1 + (df['Profit'] / 6500)).cumprod()\n",
    "peak = cumulative_returns.cummax()\n",
    "drawdown = (cumulative_returns - peak) / peak\n",
    "max_drawdown = drawdown.min()\n",
    "\n",
    "# Print the Max Drawdown\n",
    "print(\"Max Drawdown:\", max_drawdown)\n"
   ]
  },
  {
   "cell_type": "code",
   "execution_count": 40,
   "id": "c7626952",
   "metadata": {},
   "outputs": [
    {
     "name": "stdout",
     "output_type": "stream",
     "text": [
      "Max Drawdown Percentage: -24.9037859918244\n"
     ]
    }
   ],
   "source": [
    "# Calculate the Max Drawdown Percentage\n",
    "max_drawdown_percentage = (max_drawdown * 100)\n",
    "\n",
    "# Print the Max Drawdown Percentage\n",
    "print(\"Max Drawdown Percentage:\", max_drawdown_percentage)\n"
   ]
  },
  {
   "cell_type": "code",
   "execution_count": 41,
   "id": "3605ed66",
   "metadata": {},
   "outputs": [
    {
     "name": "stdout",
     "output_type": "stream",
     "text": [
      "CAGR: -0.0010614700997563231\n"
     ]
    }
   ],
   "source": [
    "# Calculate CAGR using the beginning and ending values\n",
    "beginning_value = 6500  # Initial portfolio value\n",
    "ending_value = df['Profit'].sum() + beginning_value\n",
    "num_periods = len(df)\n",
    "cagr = (ending_value / beginning_value) ** (1 / num_periods) - 1\n",
    "\n",
    "# Print CAGR\n",
    "print(\"CAGR:\", cagr)\n"
   ]
  },
  {
   "cell_type": "code",
   "execution_count": 42,
   "id": "01fea4f8",
   "metadata": {},
   "outputs": [
    {
     "name": "stdout",
     "output_type": "stream",
     "text": [
      "Calmar Ratio: -0.004262284056347057\n"
     ]
    }
   ],
   "source": [
    "# Calculate Calmar Ratio using CAGR and Max Drawdown\n",
    "calmar_ratio = cagr / abs(max_drawdown)\n",
    "\n",
    "# Print the Calmar Ratio\n",
    "print(\"Calmar Ratio:\", calmar_ratio)\n"
   ]
  },
  {
   "cell_type": "code",
   "execution_count": null,
   "id": "7348b2dd",
   "metadata": {},
   "outputs": [],
   "source": []
  }
 ],
 "metadata": {
  "kernelspec": {
   "display_name": "Python 3 (ipykernel)",
   "language": "python",
   "name": "python3"
  },
  "language_info": {
   "codemirror_mode": {
    "name": "ipython",
    "version": 3
   },
   "file_extension": ".py",
   "mimetype": "text/x-python",
   "name": "python",
   "nbconvert_exporter": "python",
   "pygments_lexer": "ipython3",
   "version": "3.11.4"
  }
 },
 "nbformat": 4,
 "nbformat_minor": 5
}
